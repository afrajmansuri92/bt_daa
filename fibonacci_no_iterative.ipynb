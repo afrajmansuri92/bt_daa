{
  "nbformat": 4,
  "nbformat_minor": 0,
  "metadata": {
    "colab": {
      "provenance": []
    },
    "kernelspec": {
      "name": "python3",
      "display_name": "Python 3"
    },
    "language_info": {
      "name": "python"
    }
  },
  "cells": [
    {
      "cell_type": "code",
      "execution_count": 1,
      "metadata": {
        "colab": {
          "base_uri": "https://localhost:8080/"
        },
        "id": "Cv-Zo7WVkVfl",
        "outputId": "55f00440-39d9-412f-8ea8-818ad288feb2"
      },
      "outputs": [
        {
          "output_type": "stream",
          "name": "stdout",
          "text": [
            "Enter Number of Terms :5\n",
            "0\n",
            "1\n",
            "1\n",
            "2\n",
            "3\n",
            "Steps required using Counter  25\n"
          ]
        }
      ],
      "source": [
        "# Write a iterative program to calculate Fibonacci numbers and find its step count.\n",
        "COUNT = 0\n",
        "x=int(input(\"Enter Number of Terms :\"))\n",
        "first=0\n",
        "sec=1\n",
        "c=0\n",
        "if(x<0):\n",
        "    print(\"Enter valid input..\")\n",
        "elif(x==0):\n",
        "    print(0)\n",
        "elif(x==1):\n",
        "    print(\"Fibbonacci series upto\",x,\"is\",first)\n",
        "else:\n",
        "    while c<x:\n",
        "        print(first) \n",
        "        COUNT = COUNT +1\n",
        "        nth=first+sec \n",
        "        COUNT = COUNT +1\n",
        "        first=sec \n",
        "5        sec=nth \n",
        "        COUNT = COUNT +1\n",
        "        c+=1  \n",
        "        COUNT = COUNT +1\n",
        "        \n",
        "\n",
        "print(\"Steps required using Counter \", COUNT)\n",
        "     "
      ]
    },
    {
      "cell_type": "code",
      "source": [],
      "metadata": {
        "id": "ieXHJ6BzkZgr"
      },
      "execution_count": null,
      "outputs": []
    }
  ]
}