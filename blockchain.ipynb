{
  "nbformat": 4,
  "nbformat_minor": 0,
  "metadata": {
    "colab": {
      "provenance": []
    },
    "kernelspec": {
      "name": "python3",
      "display_name": "Python 3"
    },
    "language_info": {
      "name": "python"
    }
  },
  "cells": [
    {
      "cell_type": "code",
      "execution_count": null,
      "metadata": {
        "id": "8l5NpaXOu31M"
      },
      "outputs": [],
      "source": []
    },
    {
      "cell_type": "markdown",
      "source": [
        "pragma solidity >= 0.5.1;\n",
        " \n",
        "//Declare the smart Contract\n",
        "contract StudentMarks {\n",
        "struct Student {\n",
        "    int ID;\n",
        "    string fname;\n",
        "    string lname;\n",
        "    int marks;\n",
        "}\n",
        "address owner;\n",
        "int public stdCount = 0;\n",
        "mapping(int => Student) public stdRecords;\n",
        " \n",
        " \n",
        "modifier onlyOwner {\n",
        "     require(owner == msg.sender);\n",
        "_;\n",
        " \n",
        "}\n",
        "//Declaring the Constructors\n",
        "constructor () public\n",
        "{\n",
        "owner == msg.sender;\n",
        "}\n",
        "function addNewRecords( int _ID,\n",
        "string memory _fName, string memory _lName, int _marks\n",
        ") public onlyOwner { stdCount = stdCount + 1;\n",
        " \n",
        "//fetch the data\n",
        "stdRecords[stdCount] = Student(_ID, _fName, _lName, _marks);\n",
        "}\n",
        " \n",
        "//function to add bonus marks\n",
        "function bonusMarks(int _bonus)\n",
        "public onlyOwner{ stdRecords[stdCount].marks = stdRecords[stdCount].marks + _bonus;\n",
        "}\n",
        "}"
      ],
      "metadata": {
        "id": "EmvHrzaOu6JZ"
      }
    },
    {
      "cell_type": "markdown",
      "source": [
        "pragma solidity >=0.5.1;\n",
        "//declared the solidity version\n",
        " \n",
        "//defining a contract\n",
        "contract MyContract {\n",
        "   address private owner;\n",
        " \n",
        "//define a constructor\n",
        "constructor() public {\n",
        "owner=msg.sender;\n",
        "}\n",
        " \n",
        "//function to get the address of the owner\n",
        " function getOwner()\n",
        " \n",
        "public view returns (address) {\n",
        "     return owner;\n",
        "}\n",
        " \n",
        "//function to get return the balancer of the owner\n",
        "function getbalance()\n",
        "public view returns(uint256){\n",
        "     return owner.balance;\n",
        "}\n",
        " \n",
        "//function to deposit money\n",
        "function deposit() external payable{\n",
        "require(msg.value == 0.01 ether, \"Please send two ethers\");\n",
        "}\n",
        " \n",
        "//Function to withdraw money\n",
        "function withdraw() external{\n",
        "require(msg.sender == owner, \"No\");\n",
        "msg.sender.transfer(address(this).balance);\n",
        "}\n",
        " \n",
        "}"
      ],
      "metadata": {
        "id": "UvcLl6eZvExI"
      }
    }
  ]
}